{
  "nbformat": 4,
  "nbformat_minor": 0,
  "metadata": {
    "colab": {
      "provenance": []
    },
    "kernelspec": {
      "name": "python3",
      "display_name": "Python 3"
    },
    "language_info": {
      "name": "python"
    }
  },
  "cells": [
    {
      "cell_type": "code",
      "source": [
        "import numpy as np\n",
        "'''This method transforms matrices (A) and (B) into 2D polynomials, performs their multiplication and summation, and then transforms the resulting polynomial (C) back into a matrix.'''"
      ],
      "metadata": {
        "colab": {
          "base_uri": "https://localhost:8080/",
          "height": 54
        },
        "id": "q9i7Tey62xYP",
        "outputId": "47a3b8ad-1530-4eb4-cd4a-204137296261"
      },
      "execution_count": 5,
      "outputs": [
        {
          "output_type": "execute_result",
          "data": {
            "text/plain": [
              "'This method transforms matrices (A) and (B) into 2D polynomials, performs their multiplication and summation, and then transforms the resulting polynomial (C) back into a matrix.'"
            ],
            "application/vnd.google.colaboratory.intrinsic+json": {
              "type": "string"
            }
          },
          "metadata": {},
          "execution_count": 5
        }
      ]
    },
    {
      "cell_type": "code",
      "source": [
        "def Poly1(x):\n",
        "  N=len(x)\n",
        "  if N==1:\n",
        "    return x\n",
        "  else:\n",
        "    even=Poly1(x[::2])\n",
        "    odd=Poly1(x[1::2])\n",
        "    y=[0]*N\n",
        "    W=np.exp(-2j * np.pi / N)\n",
        "    for i in range(N//2):\n",
        "      y[i]=even[i]+(W**i)*odd[i]\n",
        "      y[i+N//2]=even[i]-(W**i)*odd[i]\n",
        "    return y\n",
        "Poly1([1,2,3,5,6,7,8])"
      ],
      "metadata": {
        "id": "o6nuCCT_kGbJ",
        "colab": {
          "base_uri": "https://localhost:8080/"
        },
        "outputId": "35c81270-736b-4335-a18f-bab327b770ca"
      },
      "execution_count": 6,
      "outputs": [
        {
          "output_type": "execute_result",
          "data": {
            "text/plain": [
              "[(32+0j),\n",
              " (-2.5060407925650656+1.8726740701278808j),\n",
              " (-4+0j),\n",
              " (4+0j),\n",
              " (-7.493959207434934+8.12732592987212j),\n",
              " (-4+0j),\n",
              " 0]"
            ]
          },
          "metadata": {},
          "execution_count": 6
        }
      ]
    },
    {
      "cell_type": "code",
      "source": [
        "def Poly2(x):\n",
        "    N = len(x)\n",
        "    if N == 1:\n",
        "        return x\n",
        "    else:\n",
        "        pp = Poly2([j[::2] for j in x[::2]])\n",
        "        pi = Poly2([j[1::2] for j in x[::2]])\n",
        "        ip = Poly2([j[::2] for j in x[1::2]])\n",
        "        ii = Poly2([j[1::2] for j in x[1::2]])\n",
        "        W = np.exp(-2j * np.pi / N)\n",
        "        y = np.zeros((N, N), dtype=complex)\n",
        "        for k in range(N//2):\n",
        "            for j in range(N//2):\n",
        "                y[k][j] = pp[k][j] + W**j * pi[k][j] + W**k * ip[k][j] + W**(k+j) * ii[k][j]\n",
        "                y[k][j+N//2] = pp[k][j] - W**j * pi[k][j] + W**k * ip[k][j] - W**(k+j) * ii[k][j]\n",
        "                y[k+N//2][j] = pp[k][j] + W**j * pi[k][j] - W**k * ip[k][j] - W**(k+j) * ii[k][j]\n",
        "                y[k+N//2][j+N//2] = pp[k][j] - W**j * pi[k][j] - W**k * ip[k][j] + W**(k+j) * ii[k][j]\n",
        "        return y\n",
        "\n",
        "# Example usage:\n",
        "# Create a sample input array\n",
        "input_array = np.array([[1, 2, 3, 4], [5, 6, 7, 8], [9, 10, 11, 12], [13, 14, 15, 16]])\n",
        "\n",
        "# Compute 2D FFT\n",
        "result = Poly2(input_array)\n",
        "print(result)\n",
        "print(\"numpy\",np.fft.fft2(input_array))\n",
        "result==np.fft.fft2(input_array)"
      ],
      "metadata": {
        "colab": {
          "base_uri": "https://localhost:8080/"
        },
        "id": "eAmppj8Ej58m",
        "outputId": "91a55816-a64c-4d24-cdb2-f82f7854862e"
      },
      "execution_count": 7,
      "outputs": [
        {
          "output_type": "stream",
          "name": "stdout",
          "text": [
            "[[ 1.3600000e+02 +0.j -8.0000000e+00 +8.j -8.0000000e+00 +0.j\n",
            "  -8.0000000e+00 -8.j]\n",
            " [-3.2000000e+01+32.j  0.0000000e+00 +0.j  0.0000000e+00 +0.j\n",
            "   0.0000000e+00 +0.j]\n",
            " [-3.2000000e+01 +0.j  2.4492936e-16 +0.j  0.0000000e+00 +0.j\n",
            "   1.9915985e-16 +0.j]\n",
            " [-3.2000000e+01-32.j  0.0000000e+00 +0.j  0.0000000e+00 +0.j\n",
            "   0.0000000e+00 +0.j]]\n",
            "numpy [[136. +0.j  -8. +8.j  -8. +0.j  -8. -8.j]\n",
            " [-32.+32.j   0. +0.j   0. +0.j   0. +0.j]\n",
            " [-32. +0.j   0. +0.j   0. +0.j   0. +0.j]\n",
            " [-32.-32.j   0. +0.j   0. +0.j   0. +0.j]]\n"
          ]
        },
        {
          "output_type": "execute_result",
          "data": {
            "text/plain": [
              "array([[ True,  True,  True,  True],\n",
              "       [ True,  True,  True,  True],\n",
              "       [ True, False,  True, False],\n",
              "       [ True,  True,  True,  True]])"
            ]
          },
          "metadata": {},
          "execution_count": 7
        }
      ]
    },
    {
      "cell_type": "code",
      "source": [
        "def inverse_Poly2(x):\n",
        "    N = len(x[0])\n",
        "    if N == 1:\n",
        "        return x\n",
        "    else:\n",
        "      pp=Poly2([j[::2] for j in x[::2]])\n",
        "      pi=Poly2([j[1::2] for j in x[::2]])\n",
        "      ip=Poly2([j[::2] for j in x[1::2]])\n",
        "      ii=Poly2([j[1::2] for j in x[1::2]])\n",
        "      W, y = np.exp(2j * np.pi / N), np.zeros((N, N), dtype=complex)\n",
        "      for k in range(N//2):\n",
        "        for j in range(N//2):\n",
        "          y[k][j] = pp[k][j] + (W**j) * pi[k][j] + (W**k) * ip[k][j] + (W**k) * (W**j) * ii[k][j]\n",
        "          y[k][j+N//2] = pp[k][j] - (W**j) * pi[k][j] + (W**j) * ip[k][j] - (W**k) * (W**j) * ii[k][j]\n",
        "          y[k+N//2][j] = pp[k][j] + (W**j) * pi[k][j] - (W**k) * ip[k][j] - (W**k) * (W**j) * ii[k][j]\n",
        "          y[k+N//2][j+N//2] = pp[k][j] - (W**j) * pi[k][j] - (W**k) * ip[k][j] + (W**k) * (W**j) * ii[k][j]\n",
        "      return y/N\n",
        "inverse_Poly2(result)/4"
      ],
      "metadata": {
        "colab": {
          "base_uri": "https://localhost:8080/"
        },
        "id": "kaaZfEa_V3PO",
        "outputId": "a026afb4-fc4f-4fca-a776-3adba37e56c3"
      },
      "execution_count": 8,
      "outputs": [
        {
          "output_type": "execute_result",
          "data": {
            "text/plain": [
              "array([[ 1.+0.00000000e+00j,  2.+6.40929343e-17j,  3.+0.00000000e+00j,\n",
              "         8.-4.00000000e+00j],\n",
              "       [ 5.+2.44929360e-16j,  6.+3.03301105e-16j, 11.+4.00000000e+00j,\n",
              "         8.+1.86557614e-16j],\n",
              "       [ 9.+0.00000000e+00j, 10.+6.40929343e-17j, 11.+0.00000000e+00j,\n",
              "        12.-6.40929343e-17j],\n",
              "       [13.-2.44929360e-16j, 14.-1.86557614e-16j, 15.-2.44929360e-16j,\n",
              "        16.-3.03301105e-16j]])"
            ]
          },
          "metadata": {},
          "execution_count": 8
        }
      ]
    },
    {
      "cell_type": "code",
      "source": [
        "def HL(x):\n",
        "    N = len(x[0][0])\n",
        "    if N == 1:\n",
        "        return [[sum(x[i][0][0] * x[i][1][0] for i in range(len(x)))]]\n",
        "    else:\n",
        "      pp = [[x[i][0][::2], x[i][1][::2]] for i in range(len(x))]\n",
        "      pi = [[x[i][0][::2], x[i][1][1::2]] for i in range(len(x))]\n",
        "      ip = [[x[i][0][1::2], x[i][1][::2]] for i in range(len(x))]\n",
        "      ii = [[x[i][0][1::2], x[i][1][1::2]] for i in range(len(x))]\n",
        "      pp, pi, ip, ii = HL(pp), HL(pi), HL(ip), HL(ii)\n",
        "      W,y = np.exp(-2j * np.pi / N),np.zeros((N, N), dtype=complex)\n",
        "      for k in range(N//2):\n",
        "        for j in range(N//2):\n",
        "          y[k][j] = pp[k][j] + W**j * pi[k][j] + W**k * ip[k][j] + W**(k+j) * ii[k][j]\n",
        "          y[k][j+N//2] = pp[k][j] - W**j * pi[k][j] + W**k * ip[k][j] - W**(k+j) * ii[k][j]\n",
        "          y[k+N//2][j] = pp[k][j] + W**j * pi[k][j] - W**k * ip[k][j] - W**(k+j) * ii[k][j]\n",
        "          y[k+N//2][j+N//2] = pp[k][j] - W**j * pi[k][j] - W**k * ip[k][j] + W**(k+j) * ii[k][j]\n",
        "      return y"
      ],
      "metadata": {
        "id": "9wfwfpgkNp52"
      },
      "execution_count": 9,
      "outputs": []
    },
    {
      "cell_type": "code",
      "source": [
        "#A = np.array([[7, 8], [3, 4]])\n",
        "#B = np.array([[5, 6], [1, 2]])\n",
        "A = np.array([[1, 10,33,2], [3, 4,34,6],[34,76,87,99],[90,75,45,0]])\n",
        "B = np.array([[55,67,88, 6], [70,12,32, 8],[23,98,89,11],[21,44,55,66]])\n",
        "#A = np.array([[1, 2,3,4], [5, 6,7,8],[9,10,11,12],[13,14,15,16]])\n",
        "#B = np.array([[1, 2,3,4], [5, 6,7,8],[9,10,11,12],[13,14,15,16]])\n",
        "# Multiply them using np.dot()\n",
        "print(np.dot(A, B))\n",
        "def fast_matrix_multiplication(A, B):\n",
        "    A, B = np.fft.ifft2(A), np.fft.ifft2(B)\n",
        "    A = np.fft.fft(A, axis=1)\n",
        "    B = np.fft.fft(B, axis=0)\n",
        "    x = np.array([[A[:, i], B[i]] for i in range(len(A))])\n",
        "    return HL(x)\n",
        "#some rounding error\n",
        "fast_matrix_multiplication(A,B)"
      ],
      "metadata": {
        "colab": {
          "base_uri": "https://localhost:8080/"
        },
        "id": "UVc2gsMATwG8",
        "outputId": "3612dcfc-7255-40c6-b770-435927e5012a"
      },
      "execution_count": 10,
      "outputs": [
        {
          "output_type": "stream",
          "name": "stdout",
          "text": [
            "[[ 1556  3509  3455   581]\n",
            " [ 1353  3845  3748   820]\n",
            " [11270 16072 18612  8303]\n",
            " [11235 11340 14325  1635]]\n"
          ]
        },
        {
          "output_type": "execute_result",
          "data": {
            "text/plain": [
              "array([[ 1556.+0.00000000e+00j,  3509.+8.96441457e-14j,\n",
              "         3455.+0.00000000e+00j,   581.-8.96441457e-14j],\n",
              "       [ 1353.-3.02548992e-13j,  3845.-1.36854280e-13j,\n",
              "         3748.-3.23827230e-13j,   820.-1.17566093e-13j],\n",
              "       [11270.+0.00000000e+00j, 16072.+2.37857025e-13j,\n",
              "        18612.+0.00000000e+00j,  8303.-2.37857025e-13j],\n",
              "       [11235.+3.02548992e-13j, 11340.+5.26598124e-13j,\n",
              "        14325.+3.23827230e-13j,  1635.-2.72177751e-13j]])"
            ]
          },
          "metadata": {},
          "execution_count": 10
        }
      ]
    }
  ]
}