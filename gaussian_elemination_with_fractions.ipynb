{
  "nbformat": 4,
  "nbformat_minor": 0,
  "metadata": {
    "colab": {
      "provenance": []
    },
    "kernelspec": {
      "name": "python3",
      "display_name": "Python 3"
    },
    "language_info": {
      "name": "python"
    }
  },
  "cells": [
    {
      "cell_type": "code",
      "execution_count": 4,
      "metadata": {
        "colab": {
          "base_uri": "https://localhost:8080/"
        },
        "id": "S5Pcuehgifaw",
        "outputId": "fe2d1e55-28f8-46de-bc63-5df6a16c7310"
      },
      "outputs": [
        {
          "output_type": "stream",
          "name": "stdout",
          "text": [
            "[[ 260    0    0   80 -220  380]\n",
            " [   0  130    0   10   70 -180]\n",
            " [   0    0   26   -4   -2   20]]\n"
          ]
        }
      ],
      "source": [
        "import numpy as np\n",
        "from math import gcd\n",
        "\n",
        "def lcm(a, b):\n",
        "    \"\"\"Calculate the least common multiple of two integers.\"\"\"\n",
        "    return (b // gcd(a, b), a // gcd(a, b))\n",
        "\n",
        "def gaussian_integer_elimination(matrix):\n",
        "    \"\"\"Perform Gaussian elimination on the matrix with integer arithmetic.\"\"\"\n",
        "    n = matrix.shape[0]\n",
        "    # Create an augmented matrix [A | I]\n",
        "    augmented_matrix = np.hstack((matrix, np.eye(n, dtype=int)))\n",
        "\n",
        "    # Perform Gaussian elimination to transform the matrix into [D | A^-1]\n",
        "    for i in range(n):\n",
        "        diag_element = augmented_matrix[i, i]\n",
        "        # Make the other elements in the current column 0\n",
        "        for j in range(n):\n",
        "            if i != j:\n",
        "                # Compute least common multiple and adjust elements\n",
        "                lcm_a, lcm_b = lcm(augmented_matrix[j, i], diag_element)\n",
        "                augmented_matrix[j, :] = (\n",
        "                    lcm_a * augmented_matrix[j, :] - lcm_b * augmented_matrix[i, :]\n",
        "                )\n",
        "\n",
        "    # Return the transformed matrix\n",
        "    return augmented_matrix\n",
        "\n",
        "# Example usage\n",
        "A = np.array([[4, 7, 5], [2, 6, 7], [1, 2, 3]], dtype=int)\n",
        "result = gaussian_integer_elimination(A)\n",
        "print(result)\n"
      ]
    }
  ]
}