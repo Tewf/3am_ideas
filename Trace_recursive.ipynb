{
  "nbformat": 4,
  "nbformat_minor": 0,
  "metadata": {
    "colab": {
      "provenance": []
    },
    "kernelspec": {
      "name": "python3",
      "display_name": "Python 3"
    },
    "language_info": {
      "name": "python"
    }
  },
  "cells": [
    {
      "cell_type": "code",
      "source": [
        "import numpy as np\n"
      ],
      "metadata": {
        "id": "YwX5px6kyW09"
      },
      "execution_count": 1,
      "outputs": []
    },
    {
      "cell_type": "code",
      "source": [
        "\n",
        "def decouper_matrice(matrice):\n",
        "  \"\"\"Découpe une matrice en 4 sous-matrices.\n",
        "\n",
        "  Args:\n",
        "    matrice: La matrice à découper.\n",
        "\n",
        "  Returns:\n",
        "    Un tuple contenant les 4 sous-matrices.\n",
        "  \"\"\"\n",
        "  lignes, colonnes = matrice.shape\n",
        "  milieu_lignes = lignes // 2\n",
        "  milieu_colonnes = colonnes // 2\n",
        "\n",
        "  sous_matrice1 = matrice[:milieu_lignes, :milieu_colonnes]\n",
        "  sous_matrice2 = matrice[:milieu_lignes, milieu_colonnes:]\n",
        "  sous_matrice3 = matrice[milieu_lignes:, :milieu_colonnes]\n",
        "  sous_matrice4 = matrice[milieu_lignes:, milieu_colonnes:]\n",
        "\n",
        "  return sous_matrice1, sous_matrice2, sous_matrice3, sous_matrice4\n",
        "\n",
        "# Exemple d'utilisation\n",
        "matrice = np.array([[1, 2, 3, 4],\n",
        "                   [5, 6, 7, 8],\n",
        "                   [9, 10, 11, 12],\n",
        "                   [13, 14, 15, 16]])\n",
        "\n",
        "sous_matrice1, sous_matrice2, sous_matrice3, sous_matrice4 = decouper_matrice(matrice)\n",
        "\n",
        "print(\"Sous-matrice 1:\\n\", sous_matrice1)\n",
        "print(\"Sous-matrice 2:\\n\", sous_matrice2)\n",
        "print(\"Sous-matrice 3:\\n\", sous_matrice3)\n",
        "print(\"Sous-matrice 4:\\n\", sous_matrice4)"
      ],
      "metadata": {
        "colab": {
          "base_uri": "https://localhost:8080/"
        },
        "id": "jqODXnRryTbb",
        "outputId": "40485d9d-6ea1-4427-9b16-8b2ad428decb"
      },
      "execution_count": 2,
      "outputs": [
        {
          "output_type": "stream",
          "name": "stdout",
          "text": [
            "Sous-matrice 1:\n",
            " [[1 2]\n",
            " [5 6]]\n",
            "Sous-matrice 2:\n",
            " [[3 4]\n",
            " [7 8]]\n",
            "Sous-matrice 3:\n",
            " [[ 9 10]\n",
            " [13 14]]\n",
            "Sous-matrice 4:\n",
            " [[11 12]\n",
            " [15 16]]\n"
          ]
        }
      ]
    },
    {
      "cell_type": "code",
      "execution_count": 3,
      "metadata": {
        "id": "T86TZ2_kxzwT"
      },
      "outputs": [],
      "source": [
        "def Trace(x, y):\n",
        "  \"\"\"Calcule la trace du produit de deux matrices de manière récursive.\"\"\"\n",
        "  if x.shape == (1, 1):  # Check if x is a 1x1 matrix\n",
        "    return x[0, 0] * y[0, 0]  # Base case: element-wise multiplication\n",
        "  sous_x0, sous_x1, sous_x2, sous_x3 = decouper_matrice(x)\n",
        "  sous_y0, sous_y1, sous_y2, sous_y3 = decouper_matrice(y)\n",
        "  return (Trace(sous_x0, sous_y0) + Trace(sous_x1, sous_y2) +\n",
        "          Trace(sous_x2, sous_y1) + Trace(sous_x3, sous_y3))\n"
      ]
    },
    {
      "source": [
        "import numpy as np\n",
        "\n",
        "# ... (decouper_matrice and Trace functions from previous response) ...\n",
        "\n",
        "def test_trace(size):\n",
        "  \"\"\"Tests the Trace function with matrices of given size.\"\"\"\n",
        "  x = np.random.rand(size, size)\n",
        "  y = np.random.rand(size, size)\n",
        "\n",
        "  # Calculate trace using our function and NumPy's function\n",
        "  trace_recursive = Trace(x, y)\n",
        "  trace_numpy = np.trace(x @ y)  # @ is matrix multiplication\n",
        "\n",
        "  # Compare the results\n",
        "  print(f\"Size: {size}x{size}\")\n",
        "  print(f\"Recursive Trace: {trace_recursive}\")\n",
        "  print(f\"NumPy Trace: {trace_numpy}\")\n",
        "  print(f\"Difference: {abs(trace_recursive - trace_numpy)}\\n\")\n",
        "\n",
        "# Test with different matrix sizes\n",
        "for size in [2, 4, 8, 16]:\n",
        "  test_trace(size)"
      ],
      "cell_type": "code",
      "metadata": {
        "colab": {
          "base_uri": "https://localhost:8080/"
        },
        "id": "uRaGGZHtzqES",
        "outputId": "d72c94e1-a579-427d-d3f6-f11fc1e2052f"
      },
      "execution_count": 4,
      "outputs": [
        {
          "output_type": "stream",
          "name": "stdout",
          "text": [
            "Size: 2x2\n",
            "Recursive Trace: 1.1261555707257724\n",
            "NumPy Trace: 1.1261555707257722\n",
            "Difference: 2.220446049250313e-16\n",
            "\n",
            "Size: 4x4\n",
            "Recursive Trace: 4.400820457699346\n",
            "NumPy Trace: 4.400820457699346\n",
            "Difference: 0.0\n",
            "\n",
            "Size: 8x8\n",
            "Recursive Trace: 19.18435021545447\n",
            "NumPy Trace: 19.18435021545447\n",
            "Difference: 0.0\n",
            "\n",
            "Size: 16x16\n",
            "Recursive Trace: 67.46689529721921\n",
            "NumPy Trace: 67.46689529721922\n",
            "Difference: 1.4210854715202004e-14\n",
            "\n"
          ]
        }
      ]
    }
  ]
}