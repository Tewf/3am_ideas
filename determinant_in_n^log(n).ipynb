{
  "nbformat": 4,
  "nbformat_minor": 0,
  "metadata": {
    "colab": {
      "provenance": []
    },
    "kernelspec": {
      "name": "python3",
      "display_name": "Python 3"
    },
    "language_info": {
      "name": "python"
    }
  },
  "cells": [
    {
      "cell_type": "code",
      "source": [
        "import numpy as np\n",
        "\n",
        "def generate_invertible_matrix(size):\n",
        "    \"\"\"Generates a random invertible matrix of a given size.\"\"\"\n",
        "    while True:\n",
        "        # Generate a random matrix with elements drawn from a uniform distribution\n",
        "        matrix = np.random.rand(size, size)\n",
        "        # Check if the matrix is invertible by calculating its determinant\n",
        "        if np.linalg.det(matrix) != 0:\n",
        "            return matrix\n",
        "\n",
        "# Example usage\n",
        "size = 3\n",
        "invertible_matrix = generate_invertible_matrix(size)\n",
        "print(invertible_matrix)"
      ],
      "metadata": {
        "colab": {
          "base_uri": "https://localhost:8080/"
        },
        "id": "smoppr8PkfSe",
        "outputId": "68bdbc97-2142-4fbe-e8dd-eeaf91dd0bb6"
      },
      "execution_count": 2,
      "outputs": [
        {
          "output_type": "stream",
          "name": "stdout",
          "text": [
            "[[0.69438503 0.32764064 0.13643726]\n",
            " [0.27657606 0.54644365 0.61568481]\n",
            " [0.46157821 0.00937576 0.35027203]]\n"
          ]
        }
      ]
    },
    {
      "cell_type": "code",
      "execution_count": 3,
      "metadata": {
        "colab": {
          "base_uri": "https://localhost:8080/"
        },
        "id": "S5Pcuehgifaw",
        "outputId": "c6a28a07-122b-4217-861a-630fa0abf5a5"
      },
      "outputs": [
        {
          "output_type": "stream",
          "name": "stdout",
          "text": [
            "Determinant (Custom): 0.15621069920251804\n",
            "Determinant (NumPy): 0.15621069920251804\n"
          ]
        }
      ],
      "source": [
        "import numpy as np\n",
        "\n",
        "def cofactor_matrix(matrix):\n",
        "    \"\"\"Calculate the cofactor matrix.\"\"\"\n",
        "    n, m = matrix.shape\n",
        "    cofactors = np.zeros((n, m))\n",
        "\n",
        "    for i in range(n):\n",
        "        for j in range(m):\n",
        "            # Create the minor matrix by removing row i and column j\n",
        "            minor_matrix = np.delete(np.delete(matrix, i, axis=0), j, axis=1)\n",
        "            # Calculate the cofactor\n",
        "            cofactor = ((-1) ** (i + j)) * np.linalg.det(minor_matrix)\n",
        "            cofactors[i, j] = cofactor\n",
        "\n",
        "    return cofactors\n",
        "\n",
        "def augment_matrix_with_zeros(matrix):\n",
        "    \"\"\"Augment the matrix by adding a row and column of zeros, with the last element as 1.\"\"\"\n",
        "    n, m = matrix.shape\n",
        "    # Create a new matrix with an extra row and column filled with zeros\n",
        "    augmented_matrix = np.zeros((n + 1, m + 1))\n",
        "\n",
        "    # Copy the original matrix into the top-left corner of the new matrix\n",
        "    augmented_matrix[:n, :m] = matrix\n",
        "\n",
        "    # Set the last element to 1\n",
        "    augmented_matrix[n, m] = 1\n",
        "\n",
        "    return augmented_matrix\n",
        "\n",
        "def determinant(matrix):\n",
        "    \"\"\"Calculate the determinant of a square matrix.\"\"\"\n",
        "    n, m = matrix.shape\n",
        "\n",
        "    if n == 1:\n",
        "        return matrix[0, 0]\n",
        "    elif n == 2:\n",
        "        return matrix[0, 0] * matrix[1, 1] - matrix[0, 1] * matrix[1, 0]\n",
        "    else:\n",
        "        # If the matrix size is odd, augment it with zeros to make it even\n",
        "        if n % 2 == 1:\n",
        "            matrix = augment_matrix_with_zeros(matrix)\n",
        "\n",
        "        row, col = matrix.shape\n",
        "        row2, col2 = row // 2, col // 2\n",
        "\n",
        "        # Split the matrix into four submatrices\n",
        "        A = matrix[:row2, :col2]\n",
        "        B = matrix[:row2, col2:]\n",
        "        C = matrix[row2:, :col2]\n",
        "        D = matrix[row2:, col2:]\n",
        "\n",
        "        a = determinant(A)\n",
        "        adj = cofactor_matrix(A).T\n",
        "        return determinant(D * a - C @ (adj @ B)) / (a ** (row2 - 1))\n",
        "\n",
        "# Example usage\n",
        "print(\"Determinant (Custom):\", determinant(invertible_matrix))\n",
        "print(\"Determinant (NumPy):\", np.linalg.det(invertible_matrix))\n"
      ]
    }
  ]
}